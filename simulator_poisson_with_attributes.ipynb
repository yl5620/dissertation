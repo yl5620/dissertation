{
 "cells": [
  {
   "cell_type": "code",
   "execution_count": 6,
   "metadata": {},
   "outputs": [
    {
     "name": "stdout",
     "output_type": "stream",
     "text": [
      "    u   v      time  k  similarity\n",
      "0  14  17  0.004409  0    0.757462\n",
      "1  14  17  0.004409  1    0.757462\n",
      "2   5   9  0.025347  0    0.981270\n",
      "3   5   9  0.025347  1    0.981270\n",
      "4   0  14  0.037152  0    0.574869\n"
     ]
    }
   ],
   "source": [
    "import numpy as np\n",
    "import pandas as pd\n",
    "from sklearn.metrics.pairwise import cosine_similarity\n",
    "\n",
    "np.random.seed(42)\n",
    "\n",
    "num_nodes = 20\n",
    "num_features = 5\n",
    "\n",
    "nodes = list(range(num_nodes))\n",
    "node_features = np.random.rand(num_nodes, num_features)\n",
    "\n",
    "def simulate_poisson_process(rate, max_time):\n",
    "    times = []\n",
    "    current_time = 0\n",
    "    while current_time < max_time:\n",
    "        inter_event_time = np.random.exponential(1 / rate)\n",
    "        current_time += inter_event_time\n",
    "        if current_time < max_time:\n",
    "            times.append(current_time)\n",
    "    return times\n",
    "\n",
    "max_time = 100\n",
    "initial_events = []\n",
    "rates = np.random.uniform(0.1, 1.0, size=(num_nodes, num_nodes))\n",
    "\n",
    "for i in range(num_nodes):\n",
    "    for j in range(i + 1, num_nodes):\n",
    "        if i != j:\n",
    "            times = simulate_poisson_process(rates[i, j], max_time)\n",
    "            for t in times:\n",
    "                initial_events.append((i, j, t))\n",
    "\n",
    "initial_events.sort(key=lambda x: x[2])\n",
    "adj_matrix = np.zeros((num_nodes, num_nodes))\n",
    "final_events = []\n",
    "\n",
    "for event in initial_events:\n",
    "    u, v, time = event\n",
    "    sim = cosine_similarity([node_features[u]], [node_features[v]])[0][0]\n",
    "    prob = sim\n",
    "    if adj_matrix[u, v] == 0 and np.random.rand() < prob:\n",
    "        adj_matrix[u, v] = 1\n",
    "        adj_matrix[v, u] = 1\n",
    "        # final_events.append((u, v, time, 0))  # Type 0 for first activation\n",
    "        final_events.append((u, v, time, 0,sim))\n",
    "    if adj_matrix[u, v] == 1:\n",
    "        # final_events.append((u, v, time, 1))  # Type 1 for subsequent activations\n",
    "        final_events.append((u, v, time, 1,sim))\n",
    "events_df = pd.DataFrame(final_events, columns=['u', 'v', 'time', 'k','similarity'])\n",
    "print(events_df.head())\n"
   ]
  },
  {
   "cell_type": "code",
   "execution_count": 7,
   "metadata": {},
   "outputs": [
    {
     "name": "stdout",
     "output_type": "stream",
     "text": [
      "Final events have been generated and saved to 'final_poisson_process_events_with_attributes.csv'.\n"
     ]
    }
   ],
   "source": [
    "# Output the final events\n",
    "events_df.to_csv('/Users/amberrrrrr/Desktop/huozhe/simulated_data/final_poisson_process_events_with_attributes.csv', index=False)\n",
    "print(\"Final events have been generated and saved to 'final_poisson_process_events_with_attributes.csv'.\")"
   ]
  },
  {
   "cell_type": "code",
   "execution_count": null,
   "metadata": {},
   "outputs": [],
   "source": []
  }
 ],
 "metadata": {
  "language_info": {
   "name": "python"
  }
 },
 "nbformat": 4,
 "nbformat_minor": 2
}
